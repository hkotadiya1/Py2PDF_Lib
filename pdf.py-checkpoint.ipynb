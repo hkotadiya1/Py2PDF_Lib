{
 "cells": [
  {
   "cell_type": "markdown",
   "id": "8f649860",
   "metadata": {},
   "source": [
    "# PyPDF library"
   ]
  },
  {
   "cell_type": "code",
   "execution_count": 20,
   "id": "6759f786",
   "metadata": {},
   "outputs": [],
   "source": [
    "import PyPDF2"
   ]
  },
  {
   "cell_type": "code",
   "execution_count": 21,
   "id": "391df468",
   "metadata": {},
   "outputs": [],
   "source": [
    "file = open(r'C:/Users/JDPC/Downloads/Documents/python_cheat_sheet_v1.pdf', mode='rb' )"
   ]
  },
  {
   "cell_type": "code",
   "execution_count": 24,
   "id": "e4f2d08e",
   "metadata": {},
   "outputs": [],
   "source": [
    "reader = PyPDF2.PdfFileReader(file)"
   ]
  },
  {
   "cell_type": "code",
   "execution_count": 27,
   "id": "9a20bd0b",
   "metadata": {},
   "outputs": [
    {
     "name": "stdout",
     "output_type": "stream",
     "text": [
      "12\n"
     ]
    }
   ],
   "source": [
    "print(reader.numPages) # number of pages"
   ]
  },
  {
   "cell_type": "code",
   "execution_count": 36,
   "id": "13c3ea40",
   "metadata": {},
   "outputs": [],
   "source": [
    "read = reader.getPage(0)"
   ]
  },
  {
   "cell_type": "code",
   "execution_count": 38,
   "id": "52fb9761",
   "metadata": {},
   "outputs": [],
   "source": [
    "new_Pdf = read.rotateClockwise(90) # rotate PDF"
   ]
  },
  {
   "cell_type": "markdown",
   "id": "ac57fe66",
   "metadata": {},
   "source": [
    "# Merge PDFs"
   ]
  },
  {
   "cell_type": "code",
   "execution_count": 48,
   "id": "c79f0872",
   "metadata": {},
   "outputs": [],
   "source": [
    "file2 = open(r'C:/Users/JDPC/Downloads/Documents/mementopython3-english.pdf', mode='rb' )"
   ]
  },
  {
   "cell_type": "code",
   "execution_count": 49,
   "id": "bf9de9ce",
   "metadata": {},
   "outputs": [],
   "source": [
    "pdfs = [\"file2\", \"file\"]"
   ]
  },
  {
   "cell_type": "code",
   "execution_count": 50,
   "id": "77213458",
   "metadata": {},
   "outputs": [],
   "source": [
    "from PyPDF2 import PdfFileMerger\n",
    "merger = PdfFileMerger() "
   ]
  },
  {
   "cell_type": "code",
   "execution_count": null,
   "id": "4b14d3e5",
   "metadata": {},
   "outputs": [],
   "source": [
    "for pdf in pdfs:\n",
    "    merger.append(pdf)\n",
    "    \n",
    "merger.write(\"result.pdf\")\n",
    "merger.close()"
   ]
  }
 ],
 "metadata": {
  "kernelspec": {
   "display_name": "Python 3 (ipykernel)",
   "language": "python",
   "name": "python3"
  },
  "language_info": {
   "codemirror_mode": {
    "name": "ipython",
    "version": 3
   },
   "file_extension": ".py",
   "mimetype": "text/x-python",
   "name": "python",
   "nbconvert_exporter": "python",
   "pygments_lexer": "ipython3",
   "version": "3.8.8"
  }
 },
 "nbformat": 4,
 "nbformat_minor": 5
}
